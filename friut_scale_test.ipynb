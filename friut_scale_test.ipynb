{
  "nbformat": 4,
  "nbformat_minor": 0,
  "metadata": {
    "colab": {
      "provenance": [],
      "authorship_tag": "ABX9TyP2BM3PU6+aPF7azHXm+WL8",
      "include_colab_link": true
    },
    "kernelspec": {
      "name": "python3",
      "display_name": "Python 3"
    },
    "language_info": {
      "name": "python"
    }
  },
  "cells": [
    {
      "cell_type": "markdown",
      "metadata": {
        "id": "view-in-github",
        "colab_type": "text"
      },
      "source": [
        "<a href=\"https://colab.research.google.com/github/PioDru/colab/blob/main/friut_scale_test.ipynb\" target=\"_parent\"><img src=\"https://colab.research.google.com/assets/colab-badge.svg\" alt=\"Open In Colab\"/></a>"
      ]
    },
    {
      "cell_type": "code",
      "source": [
        "!wget -O banana.jpg https://upload.wikimedia.org/wikipedia/commons/8/8a/Banana-Single.jpg"
      ],
      "metadata": {
        "colab": {
          "base_uri": "https://localhost:8080/"
        },
        "id": "X6EQuXP-owhv",
        "outputId": "27cb4526-97c7-460c-887d-9fb503823d73"
      },
      "execution_count": null,
      "outputs": [
        {
          "output_type": "stream",
          "name": "stdout",
          "text": [
            "--2024-11-24 14:46:19--  https://upload.wikimedia.org/wikipedia/commons/8/8a/Banana-Single.jpg\n",
            "Resolving upload.wikimedia.org (upload.wikimedia.org)... 208.80.153.240, 2620:0:860:ed1a::2:b\n",
            "Connecting to upload.wikimedia.org (upload.wikimedia.org)|208.80.153.240|:443... connected.\n",
            "HTTP request sent, awaiting response... 200 OK\n",
            "Length: 2085213 (2.0M) [image/jpeg]\n",
            "Saving to: ‘banana.jpg’\n",
            "\n",
            "banana.jpg          100%[===================>]   1.99M  10.6MB/s    in 0.2s    \n",
            "\n",
            "2024-11-24 14:46:19 (10.6 MB/s) - ‘banana.jpg’ saved [2085213/2085213]\n",
            "\n"
          ]
        }
      ]
    },
    {
      "cell_type": "code",
      "source": [
        "\n",
        "import pandas as pd\n",
        "import matplotlib.pyplot as plt\n",
        "\n",
        "labels = pd.read_csv('labels.csv')\n",
        "labels_list = labels[labels.columns[0]].tolist()\n",
        "\n",
        "# Assuming labels.csv has a column named 'filename'\n",
        "\n",
        "labels_list[15]"
      ],
      "metadata": {
        "colab": {
          "base_uri": "https://localhost:8080/",
          "height": 35
        },
        "id": "OpvpJWE8qH5h",
        "outputId": "e92ee4d2-134d-4ede-920e-a9384a8cad88"
      },
      "execution_count": null,
      "outputs": [
        {
          "output_type": "execute_result",
          "data": {
            "text/plain": [
              "'Avocado ripe'"
            ],
            "application/vnd.google.colaboratory.intrinsic+json": {
              "type": "string"
            }
          },
          "metadata": {},
          "execution_count": 20
        }
      ]
    },
    {
      "cell_type": "code",
      "source": [
        "!wget -O banana.jpg https://upload.wikimedia.org/wikipedia/commons/8/8a/Banana-Single.jpg"
      ],
      "metadata": {
        "id": "8LhOX2iw8j-P"
      },
      "execution_count": null,
      "outputs": []
    },
    {
      "cell_type": "code",
      "execution_count": null,
      "metadata": {
        "colab": {
          "base_uri": "https://localhost:8080/",
          "height": 499
        },
        "id": "ocCQHJwmoUgi",
        "outputId": "9961a5cc-69bc-4876-d3ac-315e3fcd2d68"
      },
      "outputs": [
        {
          "output_type": "stream",
          "name": "stdout",
          "text": [
            "\u001b[1m1/1\u001b[0m \u001b[32m━━━━━━━━━━━━━━━━━━━━\u001b[0m\u001b[37m\u001b[0m \u001b[1m0s\u001b[0m 51ms/step\n",
            "86\n",
            "Class: Apple Red Delicious\n",
            "Confidence Score: 1.0\n"
          ]
        },
        {
          "output_type": "display_data",
          "data": {
            "text/plain": [
              "<Figure size 640x480 with 1 Axes>"
            ],
            "image/png": "[encoded data removed]"
          },
          "metadata": {}
        }
      ],
      "source": [
        "from keras.models import load_model  # TensorFlow is required for Keras to work\n",
        "from PIL import Image, ImageOps  # Install pillow instead of PIL\n",
        "import numpy as np\n",
        "\n",
        "# Disable scientific notation for clarity\n",
        "np.set_printoptions(suppress=True)\n",
        "\n",
        "# Load the model\n",
        "model = load_model(\"intelligent_scale_sg_a_pdr.keras\", compile=False)\n",
        "#model = load_model(\"C:\\\\Users\\\\depie\\\\Downloads\\\\converted_keras\\\\keras_model.h5\", compile=False)\n",
        "#model = load_model(\"C:\\\\keras_model.h5\", compile=False)\n",
        "\n",
        "# Load the labels\n",
        "#class_names = open(\"labels.txt\", \"r\").readlines()\n",
        "class_names = labels_list\n",
        "\n",
        "# Create the array of the right shape to feed into the keras model\n",
        "# The 'length' or number of images you can put into the array is\n",
        "# determined by the first position in the shape tuple, in this case 1\n",
        "#data = np.ndarray(shape=(1, 224, 224, 3), dtype=np.float32)\n",
        "data = np.ndarray(shape=(1, 32, 32, 3), dtype=np.float32)\n",
        "\n",
        "# Replace this with the path to your image\n",
        "#image = Image.open(\"test_data/avatar.png\").convert(\"RGB\")\n",
        "image = Image.open(\"banana.jpg\").convert(\"RGB\")\n",
        "#image = Image.open(\"banana_r_304_100.jpg\").convert(\"RGB\")\n",
        "#image = Image.open(\"avocado_49_100.jpg\").convert(\"RGB\")\n",
        "#image = Image.open(\"kiwi_35_100.jpg\").convert(\"RGB\")\n",
        "#image = Image.open(\"apple_grape.jpg\").convert(\"RGB\")\n",
        "#image = Image.open(\"apple_0_100.jpg\").convert(\"RGB\")\n",
        "image = image.resize((32, 32))\n",
        "image_np = np.array(image)\n",
        "img = np.array([image])\n",
        "\n",
        "# turn the image into a numpy array\n",
        "image_array = np.asarray(image)\n",
        "plt.imshow(image_array/255)\n",
        "\n",
        "# Normalize the image\n",
        "normalized_image_array = (image_array.astype(np.float32) / 127.5) - 1\n",
        "\n",
        "# Load the image into the array\n",
        "#data[0] = normalized_image_array\n",
        "data[0] = image_array\n",
        "\n",
        "# Predicts the model\n",
        "prediction = model.predict(data)\n",
        "#print(prediction)\n",
        "index = np.argmax(prediction)\n",
        "print(index)\n",
        "\n",
        "class_name = class_names[index]\n",
        "\n",
        "confidence_score = prediction[0][index]\n",
        "\n",
        "# Print prediction and confidence score\n",
        "print(\"Class:\", class_name, end=\"\\n\")\n",
        "print(\"Confidence Score:\", confidence_score, end=\"\\n\")\n"
      ]
    }
  ]
}