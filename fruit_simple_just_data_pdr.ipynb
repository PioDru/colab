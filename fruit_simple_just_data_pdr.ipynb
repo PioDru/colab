{
  "nbformat": 4,
  "nbformat_minor": 0,
  "metadata": {
    "colab": {
      "provenance": [],
      "private_outputs": true,
      "include_colab_link": true
    },
    "kernelspec": {
      "name": "python3",
      "display_name": "Python 3"
    },
    "language_info": {
      "name": "python"
    },
    "accelerator": "GPU"
  },
  "cells": [
    {
      "cell_type": "markdown",
      "metadata": {
        "id": "view-in-github",
        "colab_type": "text"
      },
      "source": [
        "<a href=\"https://colab.research.google.com/github/PioDru/colab/blob/main/fruit_simple_just_data_pdr.ipynb\" target=\"_parent\"><img src=\"https://colab.research.google.com/assets/colab-badge.svg\" alt=\"Open In Colab\"/></a>"
      ]
    },
    {
      "cell_type": "markdown",
      "metadata": {
        "id": "1nfQ4jD0QmZQ"
      },
      "source": [
        "# początek tworzenia systemu poniżej\n",
        "macie tutaj kod który utworzy wam zestaw danych do treningu\n",
        "\n",
        "prawa autorskie do kodu (ze świetnym opisem) są Piotra Markiewicza."
      ]
    },
    {
      "cell_type": "markdown",
      "metadata": {
        "id": "69fjhYfUBR52"
      },
      "source": [
        "# imports"
      ]
    },
    {
      "cell_type": "code",
      "metadata": {
        "id": "yqMW_70CYx2T"
      },
      "source": [
        "import os\n",
        "import tensorflow as tf\n",
        "from tensorflow.keras.preprocessing.image import ImageDataGenerator\n",
        "import matplotlib.pyplot as plt"
      ],
      "execution_count": null,
      "outputs": []
    },
    {
      "cell_type": "markdown",
      "metadata": {
        "id": "Xky1zf-JbiJm"
      },
      "source": [
        "# getting the data"
      ]
    },
    {
      "cell_type": "code",
      "metadata": {
        "id": "x0djU_PgY-UZ"
      },
      "source": [
        "!git clone https://github.com/Horea94/Fruit-Images-Dataset.git"
      ],
      "execution_count": null,
      "outputs": []
    },
    {
      "cell_type": "markdown",
      "metadata": {
        "id": "KJ-5El8UAeoV"
      },
      "source": [
        "# setting variables"
      ]
    },
    {
      "cell_type": "code",
      "metadata": {
        "id": "r80KrL-Kb9cx"
      },
      "source": [
        "# Parametry globalne\n",
        "image_size = (32, 32)     # Wielkość wczytywanego zdjęcia = 100 x 100 pilkseli\n",
        "main_folder = '/content/Fruit-Images-Dataset'"
      ],
      "execution_count": null,
      "outputs": []
    },
    {
      "cell_type": "markdown",
      "metadata": {
        "id": "nfjHlyNMAid8"
      },
      "source": [
        "# loading data"
      ]
    },
    {
      "cell_type": "code",
      "metadata": {
        "id": "CRm9-ncpdKsc"
      },
      "source": [
        "# Dane do szkolen (zdjęcia warzyw i owoców) przechowywane są odpowiednio w katalogu 'Training' i 'Test', które\n",
        "# mają tą samą strukturę pokazaną poniżej. Dla każdego gatunku owoca lub warzywa stworzony jest podkatalog,\n",
        "# którego nazwa będzie używana jako etykieta.\n",
        "\n",
        "# Training/Test\n",
        "# |________ Etykieta 1\n",
        "# |                  |____ Zdjecie 1\n",
        "# |                  |____ Zdjecie 2\n",
        "# |                  |____ ...\n",
        "# |                  |____ Zdjecie X\n",
        "# |________ Etykieta 2\n",
        "# |                  |____ Zdjecie 1\n",
        "# |                  |____ Zdjecie 2\n",
        "# |                  |____ ...\n",
        "# |                  |____ Zdjecie N\n",
        "# ...\n",
        "# |________ Etykieta M\n",
        "# |                  |____ Zdjecie 1\n",
        "# |                  |____ Zdjecie 2\n",
        "# |                  |____ ...\n",
        "# |                  |____ Zdjecie N\n",
        "\n",
        "\n",
        "# Tworzenie ścieżek do katalogów 'Training' i 'Test'\n",
        "train_image_folder = os.path.join(main_folder, 'Training')\n",
        "test_image_folder = os.path.join(main_folder, 'Test')\n",
        "\n",
        "labels = os.listdir(train_image_folder)\n",
        "\n",
        "train_data_generator = ImageDataGenerator()\n",
        "test_data_generator = ImageDataGenerator()\n",
        "\n",
        "# Metoda Flow_from_directory klasy ImageDataGenerator umożliwia import zdjęć zapisanych w odpowiedniej strukturze\n",
        "# folderów (zobacz przykład struktury przedstawionej powyżej)\n",
        "\n",
        "train_set = train_data_generator.flow_from_directory(\n",
        "    train_image_folder,           # Ścieżka do katalogu ze zdjęciami\n",
        "    target_size = image_size,     # Wielkość wczytywanego zdjęcia\n",
        "    class_mode = 'categorical',   # 'binary' jeżeli mamy tylko dwie etykiety, 'categorical' jeżeli jest wiele etykiet\n",
        "    shuffle = True,               # True - zdjęcia będą losowo mieszane w całym zbiorze\n",
        "    classes = labels)             # Przypisanie etykiet do zdjęć\n",
        "\n",
        "test_set = test_data_generator.flow_from_directory(\n",
        "\n",
        "    test_image_folder,            # Ścieżka do katalogu ze zdjęciami\n",
        "    target_size = image_size,     # Wielkość wczytywanego zdjęcia\n",
        "    class_mode = 'categorical',   # 'binary' jeżeli mamy tylko dwie etykiety, 'categorical' jeżeli jest wiele etykiet\n",
        "    classes = labels)             # Przypisanie etykiet do zdjęć\n"
      ],
      "execution_count": null,
      "outputs": []
    },
    {
      "cell_type": "code",
      "metadata": {
        "id": "CcHv0lVK92cT"
      },
      "source": [
        "labels[38]\n",
        "#labels\n",
        "#train_set.classes\n",
        "#train_set.filepaths\n",
        "#print(train_set.class_indices)\n",
        "#images, labels = next(train_set)\n",
        "#print(images.shape)  # Kształt obrazu\n",
        "#print(labels.shape)  # Kształt etykiet\n",
        "#labels"
      ],
      "execution_count": null,
      "outputs": []
    },
    {
      "cell_type": "markdown",
      "metadata": {
        "id": "OHSra09gAvYw"
      },
      "source": [
        "# creating/training a model"
      ]
    },
    {
      "cell_type": "code",
      "metadata": {
        "id": "t9Db6I3qeGV9"
      },
      "source": [
        "import seaborn as sns\n",
        "from tensorflow.keras.models import Sequential\n",
        "from tensorflow.keras.layers import Dense, Flatten, Input\n",
        "from tensorflow.keras.utils import to_categorical\n",
        "from tensorflow.keras.callbacks import EarlyStopping, ModelCheckpoint\n",
        "from keras.models import load_model  # TensorFlow is required for Keras to work\n",
        "from PIL import Image, ImageOps  # Install pillow instead of PIL\n",
        "import numpy as np\n"
      ],
      "execution_count": null,
      "outputs": []
    },
    {
      "cell_type": "code",
      "metadata": {
        "id": "xBuiEEc-dXiA"
      },
      "source": [
        "model = tf.keras.models.Sequential()\n",
        "\n",
        "# tutaj musicie wstawić własny kod\n",
        "# .......\n",
        "# 32x32 =\n",
        "# Input shape is (32, 32, 3)\n",
        "#model.add(Dense(64, input_shape = (1024,), activation = \"relu\"))\n",
        "\n",
        "model.add(Dense(64, input_shape = (32, 32, 3,), activation = \"relu\"))\n",
        "\n",
        "# Flatten the output to a 1D vector\n",
        "model.add(tf.keras.layers.Flatten())\n",
        "model.add(Dense(131 , activation = \"softmax\"))\n",
        "\n",
        "#model.compile(# tutaj musicie wstawić własny kod)\n",
        "model.compile(optimizer = \"adam\", loss = \"categorical_crossentropy\", metrics = [\"accuracy\"])\n",
        "\n"
      ],
      "execution_count": null,
      "outputs": []
    },
    {
      "cell_type": "code",
      "metadata": {
        "id": "p4g3v_XUj4Jn"
      },
      "source": [
        "model.summary()"
      ],
      "execution_count": null,
      "outputs": []
    },
    {
      "cell_type": "code",
      "metadata": {
        "id": "-0fAzJimqfAx"
      },
      "source": [
        "#model.fit(# tutaj musicie wstawić własny kod)\n",
        "#STEP_SIZE_TRAIN=train_data_generator.n//train_data_generator.batch_size\n",
        "#STEP_SIZE_VALID=valid_generator.n//valid_generator.batch_size\n",
        "#model.fit(train_set.filepaths, train_set.labels,\n",
        "                    #steps_per_epoch=STEP_SIZE_TRAIN,\n",
        "                    #validation_data=valid_generator,\n",
        "                    #validation_steps=STEP_SIZE_VALID,\n",
        "                    #epochs=10\n",
        "#)\n",
        "# Early stop on validation accuracy\n",
        "#monitor_val_acc = EarlyStopping(monitor = 'val_accuracy', patience = 5)\n",
        "#monitor_val_acc = EarlyStopping(monitor = 'accuracy', patience = 5)\n",
        "\n",
        "# Save the best model as best_banknote_model.hdf5\n",
        "#model_checkpoint = ModelCheckpoint(\"/content/intelligent_scale_sg_a.keras\", save_best_only = True)\n",
        "#model_checkpoint = ModelCheckpoint(\"intelligent_scale_sg_a.keras\", save_best_only = True)\n",
        "\n",
        "#history = model.fit(train_set, epochs=10, steps_per_epoch=len(train_set), callbacks = [model_checkpoint, monitor_val_acc])\n",
        "#history = model.fit(train_set, epochs=10, steps_per_epoch=len(train_set), callbacks = [model_checkpoint])\n",
        "#history = model.fit(train_set, epochs=10, steps_per_epoch=len(train_set))\n",
        "model.fit(train_set, epochs=10, steps_per_epoch=len(train_set))\n",
        "\n",
        "#model.save(\"intelligent_scale_sg_a_pdr.keras\")"
      ],
      "execution_count": null,
      "outputs": []
    },
    {
      "cell_type": "markdown",
      "metadata": {
        "id": "zbrMvjVVA6Wm"
      },
      "source": [
        "# model evaluation"
      ]
    },
    {
      "cell_type": "code",
      "metadata": {
        "id": "m1OEcufGpeK1"
      },
      "source": [
        "#model.evaluate(# tutaj musicie wstawić własny kod)\n",
        "loss, accuracy = model.evaluate(test_set)\n",
        "print(\"Loss:\", loss)\n",
        "print(\"Accuracy:\", accuracy)"
      ],
      "execution_count": null,
      "outputs": []
    },
    {
      "cell_type": "markdown",
      "metadata": {
        "id": "vUa8pveuBnLr"
      },
      "source": [
        "## model prediction"
      ]
    },
    {
      "cell_type": "code",
      "metadata": {
        "id": "SSm3TTxs19ec"
      },
      "source": [
        "!wget -O banana.jpg https://upload.wikimedia.org/wikipedia/commons/8/8a/Banana-Single.jpg"
      ],
      "execution_count": null,
      "outputs": []
    },
    {
      "cell_type": "code",
      "metadata": {
        "id": "LrCb7J4q2Ug5"
      },
      "source": [
        "# preprocessing data (przygotowujemy zdjęcie z internetu do predykcji\n",
        "#image = # wasz kod\n",
        "image = Image.open(\"banana.jpg\").convert(\"RGB\")\n",
        "# resizing the image to be at least 224x224 and then cropping from the center\n",
        "#size = (224, 224)\n",
        "\n",
        "image = image.resize((32, 32))\n",
        "\n",
        "#image = # wasz kod\n",
        "#image = ImageOps.fit(image, size, Image.Resampling.LANCZOS)\n",
        "image_np = np.array(image)\n",
        "\n",
        "img = np.array([image])\n",
        "\n",
        "img = image_np.reshape(1, 32, 32, 3).astype('float32') / 255.0\n",
        "\n",
        "#plt.imshow(image/255)\n",
        "plt.imshow(image_np/255)\n",
        "print(img.shape)"
      ],
      "execution_count": null,
      "outputs": []
    },
    {
      "cell_type": "code",
      "metadata": {
        "id": "hxEO5W2kUB_V"
      },
      "source": [
        "#predykcja = # wasz kod tutaj\n",
        "predykcja = model.predict(img)\n",
        "\n",
        "predykcja\n",
        "print(predykcja)"
      ],
      "execution_count": null,
      "outputs": []
    },
    {
      "cell_type": "code",
      "metadata": {
        "id": "_aEsTcbtUWrF"
      },
      "source": [
        "# kod poniżej wyświetli nam nazwę rozpoznanej kategorii owocu\n",
        "print(np.argmax(predykcja))\n",
        "print(labels)\n",
        "#labels = os.listdir(train_image_folder)\n",
        "#labels[np.argmax(predykcja)]\n",
        "labels[np.argmax(predykcja)]\n",
        "print(labels[np.argmax(predykcja)])"
      ],
      "execution_count": null,
      "outputs": []
    },
    {
      "cell_type": "code",
      "source": [
        "# prediction using picture from the dataset\n",
        "\n",
        "img4 = tf.keras.preprocessing.image.load_img('banana.jpg', target_size=(32, 32))\n",
        "img4 = tf.keras.preprocessing.image.img_to_array(img4)\n",
        "plt.imshow(img4.astype(np.int32))\n",
        "print(img4.shape)\n",
        "\n",
        "image4 = np.array([img4])\n",
        "\n",
        "labels[np.argmax(model.predict(image4))]\n",
        "print(labels[np.argmax(model.predict(image4))])"
      ],
      "metadata": {
        "id": "jvRZ-KfrvkyG"
      },
      "execution_count": null,
      "outputs": []
    },
    {
      "cell_type": "markdown",
      "metadata": {
        "id": "nkWy4GC8Uho4"
      },
      "source": [
        "# predykcja używając zdjęcia z danych testowych"
      ]
    },
    {
      "cell_type": "code",
      "metadata": {
        "id": "8h7rNNAB8eqt"
      },
      "source": [
        "# prediction using picture from the dataset\n",
        "\n",
        "img2 = tf.keras.preprocessing.image.load_img('/content/Fruit-Images-Dataset/Test/Apple Red Delicious/0_100.jpg', target_size=(32, 32))\n",
        "img2 = tf.keras.preprocessing.image.img_to_array(img2)\n",
        "plt.imshow(img2.astype(np.int32))\n",
        "print(img2.shape)\n",
        "\n",
        "image2 = np.array([img2])\n",
        "\n",
        "labels[np.argmax(model.predict(image2))]\n",
        "print(labels[np.argmax(model.predict(image2))])\n"
      ],
      "execution_count": null,
      "outputs": []
    },
    {
      "cell_type": "code",
      "source": [
        "#Plot accuracy\n",
        "'''\n",
        "import matplotlib.pyplot as plt\n",
        "\n",
        "plt.plot(history.history['accuracy'])\n",
        "plt.title('Model accuracy')\n",
        "plt.ylabel('Accuracy')\n",
        "plt.xlabel('Epoch')\n",
        "plt.show()\n",
        "'''"
      ],
      "metadata": {
        "collapsed": true,
        "id": "eOUUm01KefCz"
      },
      "execution_count": null,
      "outputs": []
    },
    {
      "cell_type": "code",
      "source": [
        "def plot_loss(loss,val_loss):\n",
        "  plt.figure()\n",
        "  plt.plot(loss)\n",
        "  plt.plot(val_loss)\n",
        "  plt.title('Model loss')\n",
        "  plt.ylabel('Loss')\n",
        "  plt.xlabel('Epoch')\n",
        "  plt.legend(['Train', 'Test'], loc='upper right')\n",
        "  plt.show()"
      ],
      "metadata": {
        "id": "TbF2EZhGhEeF"
      },
      "execution_count": null,
      "outputs": []
    },
    {
      "cell_type": "code",
      "source": [
        "#plot_loss(history.history[\"loss\"], history.history[\"val_loss\"])"
      ],
      "metadata": {
        "id": "wLm1HYGYhKlo"
      },
      "execution_count": null,
      "outputs": []
    },
    {
      "cell_type": "code",
      "source": [
        "# preprocessing data (przygotowujemy zdjęcie z wieloma owocami\n",
        "#image = # wasz kod\n",
        "image3 = Image.open(\"/content/Fruit-Images-Dataset/test-multiple_fruits/apple_grape.jpg\").convert(\"RGB\")\n",
        "# resizing the image to be at least 224x224 and then cropping from the center\n",
        "#size = (224, 224)\n",
        "\n",
        "image3 = image3.resize((32, 32))\n",
        "\n",
        "#image = # wasz kod\n",
        "#image = ImageOps.fit(image, size, Image.Resampling.LANCZOS)\n",
        "image3_np = np.array(image3)\n",
        "\n",
        "img3 = np.array([image3])\n",
        "\n",
        "#plt.imshow(image/255)\n",
        "plt.imshow(image3_np/255)\n",
        "print(img3.shape)"
      ],
      "metadata": {
        "id": "6TZpkVhYh3v5"
      },
      "execution_count": null,
      "outputs": []
    },
    {
      "cell_type": "code",
      "source": [
        "#predykcja = # wasz kod tutaj\n",
        "predykcja3 = model.predict(img3)\n",
        "predykcja3\n",
        "print(predykcja3)"
      ],
      "metadata": {
        "id": "FXirCc6jj0XY"
      },
      "execution_count": null,
      "outputs": []
    },
    {
      "cell_type": "code",
      "source": [
        "# kod poniżej wyświetli nam nazwę rozpoznanej kategorii owocu\n",
        "print(np.argmax(predykcja3))\n",
        "#print(labels)\n",
        "#labels = os.listdir(train_image_folder)\n",
        "#labels[np.argmax(predykcja)]\n",
        "labels[np.argmax(predykcja3)]\n",
        "print(labels[np.argmax(predykcja3)])"
      ],
      "metadata": {
        "id": "q4XUtIH3kL0E"
      },
      "execution_count": null,
      "outputs": []
    },
    {
      "cell_type": "code",
      "source": [
        "# prompt: generate a csv file with labels from the labels variable\n",
        "\n",
        "import csv\n",
        "\n",
        "# Assuming 'labels' variable is defined as in the provided code\n",
        "# labels = os.listdir(train_image_folder)\n",
        "\n",
        "with open('labels.csv', 'w', newline='') as csvfile:\n",
        "    writer = csv.writer(csvfile)\n",
        "    writer.writerow(['label'])  # Write header\n",
        "    for label in labels:\n",
        "        writer.writerow([label])"
      ],
      "metadata": {
        "id": "bojaYDVSkoLY"
      },
      "execution_count": null,
      "outputs": []
    },
    {
      "cell_type": "code",
      "source": [],
      "metadata": {
        "id": "oRecsIwVpedO"
      },
      "execution_count": null,
      "outputs": []
    }
  ]
}